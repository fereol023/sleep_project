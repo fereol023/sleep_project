{
 "cells": [
  {
   "cell_type": "markdown",
   "metadata": {},
   "source": [
    "## PIPELINE FEATURE ENGINEERING + MODEL TRAINING VIA RandSCV + TESTING + MODEL SAVING TO JOBLIB"
   ]
  },
  {
   "attachments": {},
   "cell_type": "markdown",
   "metadata": {},
   "source": [
    "### Preprocessing : partie train test split -> saving train and test sets"
   ]
  },
  {
   "cell_type": "code",
   "execution_count": 45,
   "metadata": {},
   "outputs": [
    {
     "name": "stdout",
     "output_type": "stream",
     "text": [
      "Index(['Gender', 'Age', 'Occupation', 'Physical Activity Level',\n",
      "       'Stress Level', 'BMI Category', 'High_pressure', 'Low_pressure',\n",
      "       'Heart Rate', 'Daily Steps', 'Sleep Disorder'],\n",
      "      dtype='object')\n",
      "(299, 11) | (75, 11) | (299,) | (75,)\n",
      "Saved train data.\n",
      "Saved test data.\n"
     ]
    }
   ],
   "source": [
    "# train test split  -> to save in 03\n",
    "import pandas as pd\n",
    "from sklearn.model_selection import train_test_split\n",
    "\n",
    "PATH_TO_INTERMEDIATE_XLSX = r\"../data/02_intermediate/df_cleaned.xlsx\"\n",
    "PATH_TO_TRAIN = r\"../data/03_primary/train.xlsx\"\n",
    "PATH_TO_TEST = r\"../data/03_primary/test.xlsx\"\n",
    "\n",
    "\n",
    "target = 'Sleep Duration' # float : is target\n",
    "\n",
    "features_retenues = [\n",
    "    'Gender',  # one hot \n",
    "    'Age', # float\n",
    "    'Occupation', # one hot / nominal avec other\n",
    "    'Physical Activity Level', # float\n",
    "    'Stress Level', # float \n",
    "    'BMI Category', # est la categorie ipc ordinal encoder\n",
    "    'High_pressure', # float\n",
    "    'Low_pressure', # float\n",
    "    'Heart Rate', # int\n",
    "    'Daily Steps', # int\n",
    "    'Sleep Disorder' # one hot \n",
    "]\n",
    "\n",
    "df = pd.read_excel(PATH_TO_INTERMEDIATE_XLSX)\n",
    "X = df[features_retenues]\n",
    "print(X.columns)\n",
    "y = df[target]\n",
    "X_train, X_test, y_train, y_test = train_test_split(df[features_retenues], df[target], test_size=0.2, random_state=2309)\n",
    "print(X_train.shape, X_test.shape, y_train.shape, y_test.shape, sep=' | ')\n",
    "train = pd.concat([X_train, y_train], axis=1)\n",
    "test = pd.concat([X_test, y_test], axis=1)\n",
    "\n",
    "with pd.ExcelWriter(PATH_TO_TRAIN) as writer1:\n",
    "        train.to_excel(writer1)\n",
    "        print('Saved train data.')\n",
    "\n",
    "with pd.ExcelWriter(PATH_TO_TEST) as writer2:\n",
    "        test.to_excel(writer2)\n",
    "        print('Saved test data.')\n"
   ]
  },
  {
   "attachments": {},
   "cell_type": "markdown",
   "metadata": {},
   "source": [
    "### Preprocessing : Feature Engineering Pipeline "
   ]
  },
  {
   "cell_type": "markdown",
   "metadata": {},
   "source": [
    "On va sélectionner certaines variables pour la modélisation (choix arbitraire pour le moment). Chacune d'elle sera encodée de manière spécifique selon la nature. Pour cela on va se servir des classes BaseEstimator et TransformerMixin de sklearn pour créer des classes d'encoders. L'objectif est de nous simplifier la tâche (reproductibilité) lors de la phase de déploiement. Pour cette raison nous limitons au max l'utilisation de fonctions.   "
   ]
  },
  {
   "cell_type": "code",
   "execution_count": 46,
   "metadata": {},
   "outputs": [
    {
     "name": "stdout",
     "output_type": "stream",
     "text": [
      "Index(['Unnamed: 0', 'Gender', 'Age', 'Occupation', 'Physical Activity Level',\n",
      "       'Stress Level', 'BMI Category', 'High_pressure', 'Low_pressure',\n",
      "       'Heart Rate', 'Daily Steps', 'Sleep Disorder', 'Sleep Duration'],\n",
      "      dtype='object')\n"
     ]
    }
   ],
   "source": [
    "train = pd.read_excel(PATH_TO_TRAIN)\n",
    "test = pd.read_excel(PATH_TO_TEST)\n",
    "print(test.columns)\n",
    "train = train.set_index('Unnamed: 0')[features_retenues + [target]]\n",
    "test = test.set_index('Unnamed: 0')[features_retenues]\n",
    "\n",
    "to_noe = ['Occupation']\n",
    "to_orde = ['BMI Category']\n",
    "to_ohe = ['Gender', 'Sleep Disorder']\n",
    "to_cast_in_float = ['Age', 'Physical Activity Level', 'Stress Level', 'High_pressure', 'Low_pressure']\n",
    "to_cast_in_int = ['Heart Rate', 'Daily Steps']"
   ]
  },
  {
   "cell_type": "markdown",
   "metadata": {},
   "source": [
    "#### création de 4 Encoders"
   ]
  },
  {
   "cell_type": "code",
   "execution_count": 47,
   "metadata": {},
   "outputs": [],
   "source": [
    "from itertools import product\n",
    "from sklearn.base import BaseEstimator, TransformerMixin\n",
    "from sklearn.preprocessing import OneHotEncoder, OrdinalEncoder\n",
    "from dstoolbox.pipeline import DataFrameFeatureUnion\n",
    "from sklearn.pipeline import Pipeline\n",
    "\n",
    "\n",
    "class FloatEncoder(BaseEstimator, TransformerMixin):\n",
    "    \"\"\"\n",
    "    Ce transformer va caster les variables \"to_cast_in_float\" en float \n",
    "    \"\"\"\n",
    "    def __init__(self, columns_to_transform = None):\n",
    "        super().__init__()\n",
    "        self.columns_to_transform = columns_to_transform\n",
    "\n",
    "    def fit(self, X, y = None):\n",
    "        if self.columns_to_transform is not None :\n",
    "            self.X = X[self.columns_to_transform]\n",
    "        return self # on n'estime rien - limite on peut utiliser assert X[col] is not str pour preparer le codage au float\n",
    "\n",
    "    def transform(self, X):\n",
    "        for col in self.columns_to_transform:\n",
    "            self.X[col] = self.X[col].astype(float)\n",
    "        return self.X\n",
    "    \n",
    "class IntEncoder(BaseEstimator, TransformerMixin):\n",
    "    \"\"\"\n",
    "    Ce transformer va caster les variables \"to_cast_in_float\" en float \n",
    "    \"\"\"\n",
    "    def __init__(self, columns_to_transform = None):\n",
    "        super().__init__()\n",
    "        self.columns_to_transform = columns_to_transform\n",
    "\n",
    "    def fit(self, X, y = None):\n",
    "        if self.columns_to_transform is not None :\n",
    "            self.X = X[self.columns_to_transform]\n",
    "        return self \n",
    "    \n",
    "    def transform(self, X):\n",
    "        for col in self.columns_to_transform:\n",
    "            self.X[col] = self.X[col].astype(int)\n",
    "        return self.X\n",
    "\n",
    "class OneHotEncoderPandas(BaseEstimator, TransformerMixin):\n",
    "    \"\"\"\n",
    "    Cette implémentation du OneHotEncoder renvoie un DataFrame en sortie et non un array numpy. Ceci est fait pour garantir la\n",
    "    traçabilité des variables et faciliter l'interprétation du modèle dans la suite.\n",
    "    \"\"\"\n",
    "    def __init__(self, columns = None):\n",
    "        super().__init__()\n",
    "        self.columns = columns\n",
    "        self.ohe = OneHotEncoder(handle_unknown= \"ignore\", sparse = False) #, drop='first')\n",
    "\n",
    "    def fit(self, X, y = None):\n",
    "        if self.columns is not None:\n",
    "            self.X = X[self.columns]\n",
    "        # on fit l'encoder one hot\n",
    "        self.ohe.fit(self.X)\n",
    "\n",
    "        # Récupération des noms de colonnes + categories pour l'interprétabilité\n",
    "        # Ex : \"situation_-1\", \"situation_10\", etc..\n",
    "        self.feature_category_pairs = []\n",
    "        for i, feature in enumerate(self.ohe.feature_names_in_):\n",
    "            feature_category = product([feature], self.ohe.categories_[i])\n",
    "            for pair in feature_category:\n",
    "                self.feature_category_pairs.append(\"{}_{}\".format(*pair))\n",
    "        return self\n",
    "    \n",
    "    def transform(self, X):\n",
    "        if self.columns is not None:\n",
    "            self.X = X[self.columns]\n",
    "            \n",
    "        return pd.DataFrame(self.ohe.transform(self.X), columns = self.feature_category_pairs)\n",
    "\n",
    "\n",
    "class OrdinalEncoderPandas(BaseEstimator, TransformerMixin):\n",
    "    \"\"\"\n",
    "    Cette implémentation du OrdinalEncoder renvoie un DataFrame en sortie et non un array numpy. Ceci est fait pour garantir la\n",
    "    traçabilité des variables et faciliter l'interprétation du modèle dans la suite.\n",
    "    \"\"\"\n",
    "    def __init__(self, columns = None):\n",
    "        super().__init__()\n",
    "        self.columns = columns\n",
    "        self.orde = OrdinalEncoder(handle_unknown='use_encoded_value', unknown_value=999, encoded_missing_value=9999)\n",
    "\n",
    "    def fit(self, X, y = None):\n",
    "        if self.columns is not None :\n",
    "            self.X = X[self.columns]\n",
    "        \n",
    "        self.orde.fit(self.X) # ICI\n",
    "        return self\n",
    "\n",
    "    def transform(self, X):\n",
    "        if self.columns is not None:\n",
    "            X = X[self.columns]      # ICI\n",
    "        return pd.DataFrame(self.orde.transform(X), columns = self.columns)\n",
    "        \n",
    "\n",
    "feature_pipeline = DataFrameFeatureUnion([\n",
    "    ('OneHotEncoding', OneHotEncoderPandas(columns=to_ohe)),\n",
    "    ('OrdinalEncoding', OrdinalEncoderPandas(columns=to_orde)),\n",
    "    ('FloatEnconding', FloatEncoder(columns_to_transform=to_cast_in_float)),\n",
    "    ('IntEnconding', IntEncoder(columns_to_transform=to_cast_in_int))\n",
    "], verbose=True)"
   ]
  },
  {
   "cell_type": "markdown",
   "metadata": {},
   "source": [
    "### Pipeline du Modele : Randomized SearchCV + Random Forest Reg"
   ]
  },
  {
   "cell_type": "code",
   "execution_count": 48,
   "metadata": {},
   "outputs": [
    {
     "name": "stdout",
     "output_type": "stream",
     "text": [
      "Model saved : {'n_estimators': 17, 'min_samples_split': 2, 'min_samples_leaf': 1, 'max_features': 'auto', 'max_depth': 4}\n"
     ]
    }
   ],
   "source": [
    "from sklearn.ensemble import RandomForestRegressor\n",
    "from sklearn.model_selection import RandomizedSearchCV, GridSearchCV\n",
    "import warnings\n",
    "import numpy as np\n",
    "from joblib import load, dump\n",
    "\n",
    "warnings.filterwarnings('ignore')\n",
    "param_rf = {\n",
    "    'n_estimators' : [int(x) for x in np.linspace(10, 80, 10)], # nombre d'arbres dans la forêt 10 20 30 ..\n",
    "    'max_depth' : [2, 4], # nombre max de niveaux dans un arbre \n",
    "    'min_samples_split' : [2, 3], # nombre min d'echantillons (bootstrap) necessaire au niveau d'un noeud pour juger de le spliter \n",
    "    'min_samples_leaf' : [1, 2], # nombre min de samples requis à chaque node \n",
    "    'max_features' : ['auto', 'sqrt'] # nombre de features à considérer auto = et sqrt = \n",
    "}\n",
    "\n",
    "rcv = RandomizedSearchCV(RandomForestRegressor(), \n",
    "                        param_distributions=param_rf, \n",
    "                        cv = 4, \n",
    "                        n_jobs = 10,\n",
    "                        random_state = 2309)\n",
    "\n",
    "# La recherche d'hyperparamètres est effectuée par \"Random Search\" car plus efficace que la Grid Search à nombre d'itérations fixé.\n",
    "# Le critère de sélection est la \"MSE\".\n",
    "\n",
    "\n",
    "def build_pipeline(model):\n",
    "    \"\"\"\n",
    "    Fonction pour construire la pipeline de prédiction, le paramètre model doit être une instance d'un modèle type scikit-learn.\n",
    "    \"\"\"\n",
    "    ML_pipeline = Pipeline(\n",
    "        [\n",
    "            ('FeatureEngineering', feature_pipeline),\n",
    "            (\"Model\", model)\n",
    "        ]\n",
    "    )\n",
    "\n",
    "    return ML_pipeline\n",
    "\n",
    "\n",
    "# La recherche d'hyperparamètres est effectuée par \"Random Search\" car plus efficace que la Grid Search à nombre d'itérations fixé.\n",
    "\n",
    "pipeline = build_pipeline(rcv)\n",
    "\n",
    "pipeline.fit(X_train, y_train)\n",
    "\n",
    "dump(rcv.best_estimator_, \"../data/07_model_output/best_model.joblib\")\n",
    "print(f'Model saved : {rcv.best_params_}')"
   ]
  },
  {
   "cell_type": "code",
   "execution_count": 53,
   "metadata": {},
   "outputs": [
    {
     "data": {
      "text/html": [
       "<style>#sk-container-id-2 {color: black;background-color: white;}#sk-container-id-2 pre{padding: 0;}#sk-container-id-2 div.sk-toggleable {background-color: white;}#sk-container-id-2 label.sk-toggleable__label {cursor: pointer;display: block;width: 100%;margin-bottom: 0;padding: 0.3em;box-sizing: border-box;text-align: center;}#sk-container-id-2 label.sk-toggleable__label-arrow:before {content: \"▸\";float: left;margin-right: 0.25em;color: #696969;}#sk-container-id-2 label.sk-toggleable__label-arrow:hover:before {color: black;}#sk-container-id-2 div.sk-estimator:hover label.sk-toggleable__label-arrow:before {color: black;}#sk-container-id-2 div.sk-toggleable__content {max-height: 0;max-width: 0;overflow: hidden;text-align: left;background-color: #f0f8ff;}#sk-container-id-2 div.sk-toggleable__content pre {margin: 0.2em;color: black;border-radius: 0.25em;background-color: #f0f8ff;}#sk-container-id-2 input.sk-toggleable__control:checked~div.sk-toggleable__content {max-height: 200px;max-width: 100%;overflow: auto;}#sk-container-id-2 input.sk-toggleable__control:checked~label.sk-toggleable__label-arrow:before {content: \"▾\";}#sk-container-id-2 div.sk-estimator input.sk-toggleable__control:checked~label.sk-toggleable__label {background-color: #d4ebff;}#sk-container-id-2 div.sk-label input.sk-toggleable__control:checked~label.sk-toggleable__label {background-color: #d4ebff;}#sk-container-id-2 input.sk-hidden--visually {border: 0;clip: rect(1px 1px 1px 1px);clip: rect(1px, 1px, 1px, 1px);height: 1px;margin: -1px;overflow: hidden;padding: 0;position: absolute;width: 1px;}#sk-container-id-2 div.sk-estimator {font-family: monospace;background-color: #f0f8ff;border: 1px dotted black;border-radius: 0.25em;box-sizing: border-box;margin-bottom: 0.5em;}#sk-container-id-2 div.sk-estimator:hover {background-color: #d4ebff;}#sk-container-id-2 div.sk-parallel-item::after {content: \"\";width: 100%;border-bottom: 1px solid gray;flex-grow: 1;}#sk-container-id-2 div.sk-label:hover label.sk-toggleable__label {background-color: #d4ebff;}#sk-container-id-2 div.sk-serial::before {content: \"\";position: absolute;border-left: 1px solid gray;box-sizing: border-box;top: 0;bottom: 0;left: 50%;z-index: 0;}#sk-container-id-2 div.sk-serial {display: flex;flex-direction: column;align-items: center;background-color: white;padding-right: 0.2em;padding-left: 0.2em;position: relative;}#sk-container-id-2 div.sk-item {position: relative;z-index: 1;}#sk-container-id-2 div.sk-parallel {display: flex;align-items: stretch;justify-content: center;background-color: white;position: relative;}#sk-container-id-2 div.sk-item::before, #sk-container-id-2 div.sk-parallel-item::before {content: \"\";position: absolute;border-left: 1px solid gray;box-sizing: border-box;top: 0;bottom: 0;left: 50%;z-index: -1;}#sk-container-id-2 div.sk-parallel-item {display: flex;flex-direction: column;z-index: 1;position: relative;background-color: white;}#sk-container-id-2 div.sk-parallel-item:first-child::after {align-self: flex-end;width: 50%;}#sk-container-id-2 div.sk-parallel-item:last-child::after {align-self: flex-start;width: 50%;}#sk-container-id-2 div.sk-parallel-item:only-child::after {width: 0;}#sk-container-id-2 div.sk-dashed-wrapped {border: 1px dashed gray;margin: 0 0.4em 0.5em 0.4em;box-sizing: border-box;padding-bottom: 0.4em;background-color: white;}#sk-container-id-2 div.sk-label label {font-family: monospace;font-weight: bold;display: inline-block;line-height: 1.2em;}#sk-container-id-2 div.sk-label-container {text-align: center;}#sk-container-id-2 div.sk-container {/* jupyter's `normalize.less` sets `[hidden] { display: none; }` but bootstrap.min.css set `[hidden] { display: none !important; }` so we also need the `!important` here to be able to override the default hidden behavior on the sphinx rendered scikit-learn.org. See: https://github.com/scikit-learn/scikit-learn/issues/21755 */display: inline-block !important;position: relative;}#sk-container-id-2 div.sk-text-repr-fallback {display: none;}</style><div id=\"sk-container-id-2\" class=\"sk-top-container\"><div class=\"sk-text-repr-fallback\"><pre>Pipeline(steps=[(&#x27;FeatureEngineering&#x27;,\n",
       "                 DataFrameFeatureUnion(transformer_list=[(&#x27;OneHotEncoding&#x27;,\n",
       "                                                          OneHotEncoderPandas(columns=[&#x27;Gender&#x27;,\n",
       "                                                                                       &#x27;Sleep &#x27;\n",
       "                                                                                       &#x27;Disorder&#x27;])),\n",
       "                                                         (&#x27;OrdinalEncoding&#x27;,\n",
       "                                                          OrdinalEncoderPandas(columns=[&#x27;BMI &#x27;\n",
       "                                                                                        &#x27;Category&#x27;])),\n",
       "                                                         (&#x27;FloatEnconding&#x27;,\n",
       "                                                          FloatEncoder(columns_to_transform=[&#x27;Age&#x27;,\n",
       "                                                                                             &#x27;Physical &#x27;\n",
       "                                                                                             &#x27;Activity &#x27;\n",
       "                                                                                             &#x27;Level&#x27;,\n",
       "                                                                                             &#x27;Stress &#x27;\n",
       "                                                                                             &#x27;Level&#x27;,\n",
       "                                                                                             &#x27;High_pressure&#x27;,\n",
       "                                                                                             &#x27;Low_pre...\n",
       "                                                         (&#x27;IntEnconding&#x27;,\n",
       "                                                          IntEncoder(columns_to_transform=[&#x27;Heart &#x27;\n",
       "                                                                                           &#x27;Rate&#x27;,\n",
       "                                                                                           &#x27;Daily &#x27;\n",
       "                                                                                           &#x27;Steps&#x27;]))],\n",
       "                                       verbose=True)),\n",
       "                (&#x27;Model&#x27;,\n",
       "                 RandomizedSearchCV(cv=4, estimator=RandomForestRegressor(),\n",
       "                                    n_jobs=10,\n",
       "                                    param_distributions={&#x27;max_depth&#x27;: [2, 4],\n",
       "                                                         &#x27;max_features&#x27;: [&#x27;auto&#x27;,\n",
       "                                                                          &#x27;sqrt&#x27;],\n",
       "                                                         &#x27;min_samples_leaf&#x27;: [1,\n",
       "                                                                              2],\n",
       "                                                         &#x27;min_samples_split&#x27;: [2,\n",
       "                                                                               3],\n",
       "                                                         &#x27;n_estimators&#x27;: [10,\n",
       "                                                                          17,\n",
       "                                                                          25,\n",
       "                                                                          33,\n",
       "                                                                          41,\n",
       "                                                                          48,\n",
       "                                                                          56,\n",
       "                                                                          64,\n",
       "                                                                          72,\n",
       "                                                                          80]},\n",
       "                                    random_state=2309))])</pre><b>In a Jupyter environment, please rerun this cell to show the HTML representation or trust the notebook. <br />On GitHub, the HTML representation is unable to render, please try loading this page with nbviewer.org.</b></div><div class=\"sk-container\" hidden><div class=\"sk-item sk-dashed-wrapped\"><div class=\"sk-label-container\"><div class=\"sk-label sk-toggleable\"><input class=\"sk-toggleable__control sk-hidden--visually\" id=\"sk-estimator-id-10\" type=\"checkbox\" ><label for=\"sk-estimator-id-10\" class=\"sk-toggleable__label sk-toggleable__label-arrow\">Pipeline</label><div class=\"sk-toggleable__content\"><pre>Pipeline(steps=[(&#x27;FeatureEngineering&#x27;,\n",
       "                 DataFrameFeatureUnion(transformer_list=[(&#x27;OneHotEncoding&#x27;,\n",
       "                                                          OneHotEncoderPandas(columns=[&#x27;Gender&#x27;,\n",
       "                                                                                       &#x27;Sleep &#x27;\n",
       "                                                                                       &#x27;Disorder&#x27;])),\n",
       "                                                         (&#x27;OrdinalEncoding&#x27;,\n",
       "                                                          OrdinalEncoderPandas(columns=[&#x27;BMI &#x27;\n",
       "                                                                                        &#x27;Category&#x27;])),\n",
       "                                                         (&#x27;FloatEnconding&#x27;,\n",
       "                                                          FloatEncoder(columns_to_transform=[&#x27;Age&#x27;,\n",
       "                                                                                             &#x27;Physical &#x27;\n",
       "                                                                                             &#x27;Activity &#x27;\n",
       "                                                                                             &#x27;Level&#x27;,\n",
       "                                                                                             &#x27;Stress &#x27;\n",
       "                                                                                             &#x27;Level&#x27;,\n",
       "                                                                                             &#x27;High_pressure&#x27;,\n",
       "                                                                                             &#x27;Low_pre...\n",
       "                                                         (&#x27;IntEnconding&#x27;,\n",
       "                                                          IntEncoder(columns_to_transform=[&#x27;Heart &#x27;\n",
       "                                                                                           &#x27;Rate&#x27;,\n",
       "                                                                                           &#x27;Daily &#x27;\n",
       "                                                                                           &#x27;Steps&#x27;]))],\n",
       "                                       verbose=True)),\n",
       "                (&#x27;Model&#x27;,\n",
       "                 RandomizedSearchCV(cv=4, estimator=RandomForestRegressor(),\n",
       "                                    n_jobs=10,\n",
       "                                    param_distributions={&#x27;max_depth&#x27;: [2, 4],\n",
       "                                                         &#x27;max_features&#x27;: [&#x27;auto&#x27;,\n",
       "                                                                          &#x27;sqrt&#x27;],\n",
       "                                                         &#x27;min_samples_leaf&#x27;: [1,\n",
       "                                                                              2],\n",
       "                                                         &#x27;min_samples_split&#x27;: [2,\n",
       "                                                                               3],\n",
       "                                                         &#x27;n_estimators&#x27;: [10,\n",
       "                                                                          17,\n",
       "                                                                          25,\n",
       "                                                                          33,\n",
       "                                                                          41,\n",
       "                                                                          48,\n",
       "                                                                          56,\n",
       "                                                                          64,\n",
       "                                                                          72,\n",
       "                                                                          80]},\n",
       "                                    random_state=2309))])</pre></div></div></div><div class=\"sk-serial\"><div class=\"sk-item sk-dashed-wrapped\"><div class=\"sk-label-container\"><div class=\"sk-label sk-toggleable\"><input class=\"sk-toggleable__control sk-hidden--visually\" id=\"sk-estimator-id-11\" type=\"checkbox\" ><label for=\"sk-estimator-id-11\" class=\"sk-toggleable__label sk-toggleable__label-arrow\">FeatureEngineering: DataFrameFeatureUnion</label><div class=\"sk-toggleable__content\"><pre>DataFrameFeatureUnion(transformer_list=[(&#x27;OneHotEncoding&#x27;,\n",
       "                                         OneHotEncoderPandas(columns=[&#x27;Gender&#x27;,\n",
       "                                                                      &#x27;Sleep &#x27;\n",
       "                                                                      &#x27;Disorder&#x27;])),\n",
       "                                        (&#x27;OrdinalEncoding&#x27;,\n",
       "                                         OrdinalEncoderPandas(columns=[&#x27;BMI &#x27;\n",
       "                                                                       &#x27;Category&#x27;])),\n",
       "                                        (&#x27;FloatEnconding&#x27;,\n",
       "                                         FloatEncoder(columns_to_transform=[&#x27;Age&#x27;,\n",
       "                                                                            &#x27;Physical &#x27;\n",
       "                                                                            &#x27;Activity &#x27;\n",
       "                                                                            &#x27;Level&#x27;,\n",
       "                                                                            &#x27;Stress &#x27;\n",
       "                                                                            &#x27;Level&#x27;,\n",
       "                                                                            &#x27;High_pressure&#x27;,\n",
       "                                                                            &#x27;Low_pressure&#x27;])),\n",
       "                                        (&#x27;IntEnconding&#x27;,\n",
       "                                         IntEncoder(columns_to_transform=[&#x27;Heart &#x27;\n",
       "                                                                          &#x27;Rate&#x27;,\n",
       "                                                                          &#x27;Daily &#x27;\n",
       "                                                                          &#x27;Steps&#x27;]))],\n",
       "                      verbose=True)</pre></div></div></div><div class=\"sk-parallel\"><div class=\"sk-parallel-item\"><div class=\"sk-item\"><div class=\"sk-label-container\"><div class=\"sk-label sk-toggleable\"><label>OneHotEncoding</label></div></div><div class=\"sk-serial\"><div class=\"sk-item\"><div class=\"sk-estimator sk-toggleable\"><input class=\"sk-toggleable__control sk-hidden--visually\" id=\"sk-estimator-id-12\" type=\"checkbox\" ><label for=\"sk-estimator-id-12\" class=\"sk-toggleable__label sk-toggleable__label-arrow\">OneHotEncoderPandas</label><div class=\"sk-toggleable__content\"><pre>OneHotEncoderPandas(columns=[&#x27;Gender&#x27;, &#x27;Sleep Disorder&#x27;])</pre></div></div></div></div></div></div><div class=\"sk-parallel-item\"><div class=\"sk-item\"><div class=\"sk-label-container\"><div class=\"sk-label sk-toggleable\"><label>OrdinalEncoding</label></div></div><div class=\"sk-serial\"><div class=\"sk-item\"><div class=\"sk-estimator sk-toggleable\"><input class=\"sk-toggleable__control sk-hidden--visually\" id=\"sk-estimator-id-13\" type=\"checkbox\" ><label for=\"sk-estimator-id-13\" class=\"sk-toggleable__label sk-toggleable__label-arrow\">OrdinalEncoderPandas</label><div class=\"sk-toggleable__content\"><pre>OrdinalEncoderPandas(columns=[&#x27;BMI Category&#x27;])</pre></div></div></div></div></div></div><div class=\"sk-parallel-item\"><div class=\"sk-item\"><div class=\"sk-label-container\"><div class=\"sk-label sk-toggleable\"><label>FloatEnconding</label></div></div><div class=\"sk-serial\"><div class=\"sk-item\"><div class=\"sk-estimator sk-toggleable\"><input class=\"sk-toggleable__control sk-hidden--visually\" id=\"sk-estimator-id-14\" type=\"checkbox\" ><label for=\"sk-estimator-id-14\" class=\"sk-toggleable__label sk-toggleable__label-arrow\">FloatEncoder</label><div class=\"sk-toggleable__content\"><pre>FloatEncoder(columns_to_transform=[&#x27;Age&#x27;, &#x27;Physical Activity Level&#x27;,\n",
       "                                   &#x27;Stress Level&#x27;, &#x27;High_pressure&#x27;,\n",
       "                                   &#x27;Low_pressure&#x27;])</pre></div></div></div></div></div></div><div class=\"sk-parallel-item\"><div class=\"sk-item\"><div class=\"sk-label-container\"><div class=\"sk-label sk-toggleable\"><label>IntEnconding</label></div></div><div class=\"sk-serial\"><div class=\"sk-item\"><div class=\"sk-estimator sk-toggleable\"><input class=\"sk-toggleable__control sk-hidden--visually\" id=\"sk-estimator-id-15\" type=\"checkbox\" ><label for=\"sk-estimator-id-15\" class=\"sk-toggleable__label sk-toggleable__label-arrow\">IntEncoder</label><div class=\"sk-toggleable__content\"><pre>IntEncoder(columns_to_transform=[&#x27;Heart Rate&#x27;, &#x27;Daily Steps&#x27;])</pre></div></div></div></div></div></div></div></div><div class=\"sk-item sk-dashed-wrapped\"><div class=\"sk-label-container\"><div class=\"sk-label sk-toggleable\"><input class=\"sk-toggleable__control sk-hidden--visually\" id=\"sk-estimator-id-16\" type=\"checkbox\" ><label for=\"sk-estimator-id-16\" class=\"sk-toggleable__label sk-toggleable__label-arrow\">Model: RandomizedSearchCV</label><div class=\"sk-toggleable__content\"><pre>RandomizedSearchCV(cv=4, estimator=RandomForestRegressor(), n_jobs=10,\n",
       "                   param_distributions={&#x27;max_depth&#x27;: [2, 4],\n",
       "                                        &#x27;max_features&#x27;: [&#x27;auto&#x27;, &#x27;sqrt&#x27;],\n",
       "                                        &#x27;min_samples_leaf&#x27;: [1, 2],\n",
       "                                        &#x27;min_samples_split&#x27;: [2, 3],\n",
       "                                        &#x27;n_estimators&#x27;: [10, 17, 25, 33, 41, 48,\n",
       "                                                         56, 64, 72, 80]},\n",
       "                   random_state=2309)</pre></div></div></div><div class=\"sk-parallel\"><div class=\"sk-parallel-item\"><div class=\"sk-item\"><div class=\"sk-label-container\"><div class=\"sk-label sk-toggleable\"><input class=\"sk-toggleable__control sk-hidden--visually\" id=\"sk-estimator-id-17\" type=\"checkbox\" ><label for=\"sk-estimator-id-17\" class=\"sk-toggleable__label sk-toggleable__label-arrow\">estimator: RandomForestRegressor</label><div class=\"sk-toggleable__content\"><pre>RandomForestRegressor()</pre></div></div></div><div class=\"sk-serial\"><div class=\"sk-item\"><div class=\"sk-estimator sk-toggleable\"><input class=\"sk-toggleable__control sk-hidden--visually\" id=\"sk-estimator-id-18\" type=\"checkbox\" ><label for=\"sk-estimator-id-18\" class=\"sk-toggleable__label sk-toggleable__label-arrow\">RandomForestRegressor</label><div class=\"sk-toggleable__content\"><pre>RandomForestRegressor()</pre></div></div></div></div></div></div></div></div></div></div></div></div>"
      ],
      "text/plain": [
       "Pipeline(steps=[('FeatureEngineering',\n",
       "                 DataFrameFeatureUnion(transformer_list=[('OneHotEncoding',\n",
       "                                                          OneHotEncoderPandas(columns=['Gender',\n",
       "                                                                                       'Sleep '\n",
       "                                                                                       'Disorder'])),\n",
       "                                                         ('OrdinalEncoding',\n",
       "                                                          OrdinalEncoderPandas(columns=['BMI '\n",
       "                                                                                        'Category'])),\n",
       "                                                         ('FloatEnconding',\n",
       "                                                          FloatEncoder(columns_to_transform=['Age',\n",
       "                                                                                             'Physical '\n",
       "                                                                                             'Activity '\n",
       "                                                                                             'Level',\n",
       "                                                                                             'Stress '\n",
       "                                                                                             'Level',\n",
       "                                                                                             'High_pressure',\n",
       "                                                                                             'Low_pre...\n",
       "                                                         ('IntEnconding',\n",
       "                                                          IntEncoder(columns_to_transform=['Heart '\n",
       "                                                                                           'Rate',\n",
       "                                                                                           'Daily '\n",
       "                                                                                           'Steps']))],\n",
       "                                       verbose=True)),\n",
       "                ('Model',\n",
       "                 RandomizedSearchCV(cv=4, estimator=RandomForestRegressor(),\n",
       "                                    n_jobs=10,\n",
       "                                    param_distributions={'max_depth': [2, 4],\n",
       "                                                         'max_features': ['auto',\n",
       "                                                                          'sqrt'],\n",
       "                                                         'min_samples_leaf': [1,\n",
       "                                                                              2],\n",
       "                                                         'min_samples_split': [2,\n",
       "                                                                               3],\n",
       "                                                         'n_estimators': [10,\n",
       "                                                                          17,\n",
       "                                                                          25,\n",
       "                                                                          33,\n",
       "                                                                          41,\n",
       "                                                                          48,\n",
       "                                                                          56,\n",
       "                                                                          64,\n",
       "                                                                          72,\n",
       "                                                                          80]},\n",
       "                                    random_state=2309))])"
      ]
     },
     "execution_count": 53,
     "metadata": {},
     "output_type": "execute_result"
    }
   ],
   "source": [
    "pipeline"
   ]
  },
  {
   "cell_type": "markdown",
   "metadata": {},
   "source": [
    "#### Evaluation du modele : train + test -> RMSE"
   ]
  },
  {
   "cell_type": "code",
   "execution_count": 49,
   "metadata": {},
   "outputs": [
    {
     "name": "stdout",
     "output_type": "stream",
     "text": [
      "\n",
      "Evaluate Best Random forest RCV regressor\n",
      "['Gender_Female' 'Gender_Male' 'Sleep Disorder_Insomnia'\n",
      " 'Sleep Disorder_None' 'Sleep Disorder_Sleep Apnea' 'BMI Category' 'Age'\n",
      " 'Physical Activity Level' 'Stress Level' 'High_pressure' 'Low_pressure'\n",
      " 'Heart Rate' 'Daily Steps']\n",
      "==================================================\n",
      "Train error : 0.094\n",
      "Test error : 0.099\n"
     ]
    },
    {
     "data": {
      "image/png": "[encoded data removed]",
      "text/plain": [
       "<Figure size 2000x500 with 3 Axes>"
      ]
     },
     "metadata": {},
     "output_type": "display_data"
    }
   ],
   "source": [
    "from sklearn.metrics import mean_squared_error\n",
    "from utils_sleep import plot_learning_curve\n",
    "\n",
    "\n",
    "def evaluate_model(model, train_features, test_features, train_target, test_target, rep = False):\n",
    "\n",
    "    prepPipeline = Pipeline([('prepare', feature_pipeline)])\n",
    "    train_features = prepPipeline.fit_transform(train_features)\n",
    "    print(train_features.columns.values)\n",
    "    test_features = prepPipeline.fit_transform(test_features)\n",
    "\n",
    "    train_preds = model.predict(train_features)\n",
    "    rmse_train = round(mean_squared_error(train_target, train_preds, squared=False), 3)\n",
    "\n",
    "    test_preds = model.predict(test_features)\n",
    "    rmse_test = round(mean_squared_error(test_target, test_preds, squared=False), 3)\n",
    "\n",
    "    if rep :\n",
    "        return rmse_train, rmse_test\n",
    "    else : \n",
    "        print(\"=\"*50)\n",
    "        print(\"Train error :\",rmse_train) \n",
    "        print(\"Test error :\", rmse_test)\n",
    "\n",
    "    #======== LEARNING CURVE\n",
    "    plot_learning_curve(\n",
    "        best_model,\n",
    "        title = \"Learning Curve - LightGBM\",\n",
    "        X = train_features,\n",
    "        y = train_target,\n",
    "        cv=4,\n",
    "        n_jobs=1,\n",
    "    )\n",
    "\n",
    "\n",
    "# execution\n",
    "\n",
    "PATH_TO_MODEL = r\"..\\data\\07_model_output\\best_model.joblib\"\n",
    "best_model = load(PATH_TO_MODEL)\n",
    "\n",
    "print(\"\\nEvaluate Best Random forest RCV regressor\")\n",
    "evaluate_model(best_model, X_train, X_test, y_train, y_test)"
   ]
  },
  {
   "cell_type": "markdown",
   "metadata": {},
   "source": [
    "### Others"
   ]
  },
  {
   "cell_type": "code",
   "execution_count": 50,
   "metadata": {},
   "outputs": [
    {
     "data": {
      "text/plain": [
       "array(['Gender', 'Age', 'Occupation', 'Physical Activity Level',\n",
       "       'Stress Level', 'BMI Category', 'High_pressure', 'Low_pressure',\n",
       "       'Heart Rate', 'Daily Steps', 'Sleep Disorder'], dtype=object)"
      ]
     },
     "execution_count": 50,
     "metadata": {},
     "output_type": "execute_result"
    }
   ],
   "source": [
    "X_train.columns.values"
   ]
  },
  {
   "cell_type": "code",
   "execution_count": 51,
   "metadata": {},
   "outputs": [
    {
     "data": {
      "text/plain": [
       "Gender                     object\n",
       "Age                         int64\n",
       "Occupation                 object\n",
       "Physical Activity Level     int64\n",
       "Stress Level                int64\n",
       "BMI Category               object\n",
       "High_pressure               int64\n",
       "Low_pressure                int64\n",
       "Heart Rate                  int64\n",
       "Daily Steps                 int64\n",
       "Sleep Disorder             object\n",
       "dtype: object"
      ]
     },
     "execution_count": 51,
     "metadata": {},
     "output_type": "execute_result"
    }
   ],
   "source": [
    "X_test.dtypes"
   ]
  },
  {
   "cell_type": "code",
   "execution_count": 52,
   "metadata": {},
   "outputs": [
    {
     "data": {
      "text/plain": [
       "Age                          43.0\n",
       "Physical Activity Level      60.0\n",
       "Stress Level                  5.0\n",
       "High_pressure               130.0\n",
       "Low_pressure                 85.0\n",
       "Heart Rate                   70.0\n",
       "Daily Steps                7000.0\n",
       "dtype: float64"
      ]
     },
     "execution_count": 52,
     "metadata": {},
     "output_type": "execute_result"
    }
   ],
   "source": [
    "X_test.median().T"
   ]
  },
  {
   "cell_type": "code",
   "execution_count": 10,
   "metadata": {},
   "outputs": [
    {
     "data": {
      "text/html": [
       "<style>#sk-container-id-1 {color: black;background-color: white;}#sk-container-id-1 pre{padding: 0;}#sk-container-id-1 div.sk-toggleable {background-color: white;}#sk-container-id-1 label.sk-toggleable__label {cursor: pointer;display: block;width: 100%;margin-bottom: 0;padding: 0.3em;box-sizing: border-box;text-align: center;}#sk-container-id-1 label.sk-toggleable__label-arrow:before {content: \"▸\";float: left;margin-right: 0.25em;color: #696969;}#sk-container-id-1 label.sk-toggleable__label-arrow:hover:before {color: black;}#sk-container-id-1 div.sk-estimator:hover label.sk-toggleable__label-arrow:before {color: black;}#sk-container-id-1 div.sk-toggleable__content {max-height: 0;max-width: 0;overflow: hidden;text-align: left;background-color: #f0f8ff;}#sk-container-id-1 div.sk-toggleable__content pre {margin: 0.2em;color: black;border-radius: 0.25em;background-color: #f0f8ff;}#sk-container-id-1 input.sk-toggleable__control:checked~div.sk-toggleable__content {max-height: 200px;max-width: 100%;overflow: auto;}#sk-container-id-1 input.sk-toggleable__control:checked~label.sk-toggleable__label-arrow:before {content: \"▾\";}#sk-container-id-1 div.sk-estimator input.sk-toggleable__control:checked~label.sk-toggleable__label {background-color: #d4ebff;}#sk-container-id-1 div.sk-label input.sk-toggleable__control:checked~label.sk-toggleable__label {background-color: #d4ebff;}#sk-container-id-1 input.sk-hidden--visually {border: 0;clip: rect(1px 1px 1px 1px);clip: rect(1px, 1px, 1px, 1px);height: 1px;margin: -1px;overflow: hidden;padding: 0;position: absolute;width: 1px;}#sk-container-id-1 div.sk-estimator {font-family: monospace;background-color: #f0f8ff;border: 1px dotted black;border-radius: 0.25em;box-sizing: border-box;margin-bottom: 0.5em;}#sk-container-id-1 div.sk-estimator:hover {background-color: #d4ebff;}#sk-container-id-1 div.sk-parallel-item::after {content: \"\";width: 100%;border-bottom: 1px solid gray;flex-grow: 1;}#sk-container-id-1 div.sk-label:hover label.sk-toggleable__label {background-color: #d4ebff;}#sk-container-id-1 div.sk-serial::before {content: \"\";position: absolute;border-left: 1px solid gray;box-sizing: border-box;top: 0;bottom: 0;left: 50%;z-index: 0;}#sk-container-id-1 div.sk-serial {display: flex;flex-direction: column;align-items: center;background-color: white;padding-right: 0.2em;padding-left: 0.2em;position: relative;}#sk-container-id-1 div.sk-item {position: relative;z-index: 1;}#sk-container-id-1 div.sk-parallel {display: flex;align-items: stretch;justify-content: center;background-color: white;position: relative;}#sk-container-id-1 div.sk-item::before, #sk-container-id-1 div.sk-parallel-item::before {content: \"\";position: absolute;border-left: 1px solid gray;box-sizing: border-box;top: 0;bottom: 0;left: 50%;z-index: -1;}#sk-container-id-1 div.sk-parallel-item {display: flex;flex-direction: column;z-index: 1;position: relative;background-color: white;}#sk-container-id-1 div.sk-parallel-item:first-child::after {align-self: flex-end;width: 50%;}#sk-container-id-1 div.sk-parallel-item:last-child::after {align-self: flex-start;width: 50%;}#sk-container-id-1 div.sk-parallel-item:only-child::after {width: 0;}#sk-container-id-1 div.sk-dashed-wrapped {border: 1px dashed gray;margin: 0 0.4em 0.5em 0.4em;box-sizing: border-box;padding-bottom: 0.4em;background-color: white;}#sk-container-id-1 div.sk-label label {font-family: monospace;font-weight: bold;display: inline-block;line-height: 1.2em;}#sk-container-id-1 div.sk-label-container {text-align: center;}#sk-container-id-1 div.sk-container {/* jupyter's `normalize.less` sets `[hidden] { display: none; }` but bootstrap.min.css set `[hidden] { display: none !important; }` so we also need the `!important` here to be able to override the default hidden behavior on the sphinx rendered scikit-learn.org. See: https://github.com/scikit-learn/scikit-learn/issues/21755 */display: inline-block !important;position: relative;}#sk-container-id-1 div.sk-text-repr-fallback {display: none;}</style><div id=\"sk-container-id-1\" class=\"sk-top-container\"><div class=\"sk-text-repr-fallback\"><pre>Pipeline(steps=[(&#x27;FeatureEngineering&#x27;,\n",
       "                 DataFrameFeatureUnion(transformer_list=[(&#x27;OneHotEncoding&#x27;,\n",
       "                                                          OneHotEncoderPandas(columns=[&#x27;Gender&#x27;,\n",
       "                                                                                       &#x27;Sleep &#x27;\n",
       "                                                                                       &#x27;Disorder&#x27;])),\n",
       "                                                         (&#x27;OrdinalEncoding&#x27;,\n",
       "                                                          OrdinalEncoderPandas(columns=[&#x27;BMI &#x27;\n",
       "                                                                                        &#x27;Category&#x27;])),\n",
       "                                                         (&#x27;FloatEnconding&#x27;,\n",
       "                                                          FloatEncoder(columns_to_transform=[&#x27;Age&#x27;,\n",
       "                                                                                             &#x27;Physical &#x27;\n",
       "                                                                                             &#x27;Activity &#x27;\n",
       "                                                                                             &#x27;Level&#x27;,\n",
       "                                                                                             &#x27;Stress &#x27;\n",
       "                                                                                             &#x27;Level&#x27;,\n",
       "                                                                                             &#x27;High_pressure&#x27;,\n",
       "                                                                                             &#x27;Low_pre...\n",
       "                                                         (&#x27;IntEnconding&#x27;,\n",
       "                                                          IntEncoder(columns_to_transform=[&#x27;Heart &#x27;\n",
       "                                                                                           &#x27;Rate&#x27;,\n",
       "                                                                                           &#x27;Daily &#x27;\n",
       "                                                                                           &#x27;Steps&#x27;]))],\n",
       "                                       verbose=True)),\n",
       "                (&#x27;Model&#x27;,\n",
       "                 RandomizedSearchCV(cv=4, estimator=RandomForestRegressor(),\n",
       "                                    n_jobs=10,\n",
       "                                    param_distributions={&#x27;max_depth&#x27;: [2, 4],\n",
       "                                                         &#x27;max_features&#x27;: [&#x27;auto&#x27;,\n",
       "                                                                          &#x27;sqrt&#x27;],\n",
       "                                                         &#x27;min_samples_leaf&#x27;: [1,\n",
       "                                                                              2],\n",
       "                                                         &#x27;min_samples_split&#x27;: [2,\n",
       "                                                                               3],\n",
       "                                                         &#x27;n_estimators&#x27;: [10,\n",
       "                                                                          17,\n",
       "                                                                          25,\n",
       "                                                                          33,\n",
       "                                                                          41,\n",
       "                                                                          48,\n",
       "                                                                          56,\n",
       "                                                                          64,\n",
       "                                                                          72,\n",
       "                                                                          80]},\n",
       "                                    random_state=2309))])</pre><b>In a Jupyter environment, please rerun this cell to show the HTML representation or trust the notebook. <br />On GitHub, the HTML representation is unable to render, please try loading this page with nbviewer.org.</b></div><div class=\"sk-container\" hidden><div class=\"sk-item sk-dashed-wrapped\"><div class=\"sk-label-container\"><div class=\"sk-label sk-toggleable\"><input class=\"sk-toggleable__control sk-hidden--visually\" id=\"sk-estimator-id-1\" type=\"checkbox\" ><label for=\"sk-estimator-id-1\" class=\"sk-toggleable__label sk-toggleable__label-arrow\">Pipeline</label><div class=\"sk-toggleable__content\"><pre>Pipeline(steps=[(&#x27;FeatureEngineering&#x27;,\n",
       "                 DataFrameFeatureUnion(transformer_list=[(&#x27;OneHotEncoding&#x27;,\n",
       "                                                          OneHotEncoderPandas(columns=[&#x27;Gender&#x27;,\n",
       "                                                                                       &#x27;Sleep &#x27;\n",
       "                                                                                       &#x27;Disorder&#x27;])),\n",
       "                                                         (&#x27;OrdinalEncoding&#x27;,\n",
       "                                                          OrdinalEncoderPandas(columns=[&#x27;BMI &#x27;\n",
       "                                                                                        &#x27;Category&#x27;])),\n",
       "                                                         (&#x27;FloatEnconding&#x27;,\n",
       "                                                          FloatEncoder(columns_to_transform=[&#x27;Age&#x27;,\n",
       "                                                                                             &#x27;Physical &#x27;\n",
       "                                                                                             &#x27;Activity &#x27;\n",
       "                                                                                             &#x27;Level&#x27;,\n",
       "                                                                                             &#x27;Stress &#x27;\n",
       "                                                                                             &#x27;Level&#x27;,\n",
       "                                                                                             &#x27;High_pressure&#x27;,\n",
       "                                                                                             &#x27;Low_pre...\n",
       "                                                         (&#x27;IntEnconding&#x27;,\n",
       "                                                          IntEncoder(columns_to_transform=[&#x27;Heart &#x27;\n",
       "                                                                                           &#x27;Rate&#x27;,\n",
       "                                                                                           &#x27;Daily &#x27;\n",
       "                                                                                           &#x27;Steps&#x27;]))],\n",
       "                                       verbose=True)),\n",
       "                (&#x27;Model&#x27;,\n",
       "                 RandomizedSearchCV(cv=4, estimator=RandomForestRegressor(),\n",
       "                                    n_jobs=10,\n",
       "                                    param_distributions={&#x27;max_depth&#x27;: [2, 4],\n",
       "                                                         &#x27;max_features&#x27;: [&#x27;auto&#x27;,\n",
       "                                                                          &#x27;sqrt&#x27;],\n",
       "                                                         &#x27;min_samples_leaf&#x27;: [1,\n",
       "                                                                              2],\n",
       "                                                         &#x27;min_samples_split&#x27;: [2,\n",
       "                                                                               3],\n",
       "                                                         &#x27;n_estimators&#x27;: [10,\n",
       "                                                                          17,\n",
       "                                                                          25,\n",
       "                                                                          33,\n",
       "                                                                          41,\n",
       "                                                                          48,\n",
       "                                                                          56,\n",
       "                                                                          64,\n",
       "                                                                          72,\n",
       "                                                                          80]},\n",
       "                                    random_state=2309))])</pre></div></div></div><div class=\"sk-serial\"><div class=\"sk-item sk-dashed-wrapped\"><div class=\"sk-label-container\"><div class=\"sk-label sk-toggleable\"><input class=\"sk-toggleable__control sk-hidden--visually\" id=\"sk-estimator-id-2\" type=\"checkbox\" ><label for=\"sk-estimator-id-2\" class=\"sk-toggleable__label sk-toggleable__label-arrow\">FeatureEngineering: DataFrameFeatureUnion</label><div class=\"sk-toggleable__content\"><pre>DataFrameFeatureUnion(transformer_list=[(&#x27;OneHotEncoding&#x27;,\n",
       "                                         OneHotEncoderPandas(columns=[&#x27;Gender&#x27;,\n",
       "                                                                      &#x27;Sleep &#x27;\n",
       "                                                                      &#x27;Disorder&#x27;])),\n",
       "                                        (&#x27;OrdinalEncoding&#x27;,\n",
       "                                         OrdinalEncoderPandas(columns=[&#x27;BMI &#x27;\n",
       "                                                                       &#x27;Category&#x27;])),\n",
       "                                        (&#x27;FloatEnconding&#x27;,\n",
       "                                         FloatEncoder(columns_to_transform=[&#x27;Age&#x27;,\n",
       "                                                                            &#x27;Physical &#x27;\n",
       "                                                                            &#x27;Activity &#x27;\n",
       "                                                                            &#x27;Level&#x27;,\n",
       "                                                                            &#x27;Stress &#x27;\n",
       "                                                                            &#x27;Level&#x27;,\n",
       "                                                                            &#x27;High_pressure&#x27;,\n",
       "                                                                            &#x27;Low_pressure&#x27;])),\n",
       "                                        (&#x27;IntEnconding&#x27;,\n",
       "                                         IntEncoder(columns_to_transform=[&#x27;Heart &#x27;\n",
       "                                                                          &#x27;Rate&#x27;,\n",
       "                                                                          &#x27;Daily &#x27;\n",
       "                                                                          &#x27;Steps&#x27;]))],\n",
       "                      verbose=True)</pre></div></div></div><div class=\"sk-parallel\"><div class=\"sk-parallel-item\"><div class=\"sk-item\"><div class=\"sk-label-container\"><div class=\"sk-label sk-toggleable\"><label>OneHotEncoding</label></div></div><div class=\"sk-serial\"><div class=\"sk-item\"><div class=\"sk-estimator sk-toggleable\"><input class=\"sk-toggleable__control sk-hidden--visually\" id=\"sk-estimator-id-3\" type=\"checkbox\" ><label for=\"sk-estimator-id-3\" class=\"sk-toggleable__label sk-toggleable__label-arrow\">OneHotEncoderPandas</label><div class=\"sk-toggleable__content\"><pre>OneHotEncoderPandas(columns=[&#x27;Gender&#x27;, &#x27;Sleep Disorder&#x27;])</pre></div></div></div></div></div></div><div class=\"sk-parallel-item\"><div class=\"sk-item\"><div class=\"sk-label-container\"><div class=\"sk-label sk-toggleable\"><label>OrdinalEncoding</label></div></div><div class=\"sk-serial\"><div class=\"sk-item\"><div class=\"sk-estimator sk-toggleable\"><input class=\"sk-toggleable__control sk-hidden--visually\" id=\"sk-estimator-id-4\" type=\"checkbox\" ><label for=\"sk-estimator-id-4\" class=\"sk-toggleable__label sk-toggleable__label-arrow\">OrdinalEncoderPandas</label><div class=\"sk-toggleable__content\"><pre>OrdinalEncoderPandas(columns=[&#x27;BMI Category&#x27;])</pre></div></div></div></div></div></div><div class=\"sk-parallel-item\"><div class=\"sk-item\"><div class=\"sk-label-container\"><div class=\"sk-label sk-toggleable\"><label>FloatEnconding</label></div></div><div class=\"sk-serial\"><div class=\"sk-item\"><div class=\"sk-estimator sk-toggleable\"><input class=\"sk-toggleable__control sk-hidden--visually\" id=\"sk-estimator-id-5\" type=\"checkbox\" ><label for=\"sk-estimator-id-5\" class=\"sk-toggleable__label sk-toggleable__label-arrow\">FloatEncoder</label><div class=\"sk-toggleable__content\"><pre>FloatEncoder(columns_to_transform=[&#x27;Age&#x27;, &#x27;Physical Activity Level&#x27;,\n",
       "                                   &#x27;Stress Level&#x27;, &#x27;High_pressure&#x27;,\n",
       "                                   &#x27;Low_pressure&#x27;])</pre></div></div></div></div></div></div><div class=\"sk-parallel-item\"><div class=\"sk-item\"><div class=\"sk-label-container\"><div class=\"sk-label sk-toggleable\"><label>IntEnconding</label></div></div><div class=\"sk-serial\"><div class=\"sk-item\"><div class=\"sk-estimator sk-toggleable\"><input class=\"sk-toggleable__control sk-hidden--visually\" id=\"sk-estimator-id-6\" type=\"checkbox\" ><label for=\"sk-estimator-id-6\" class=\"sk-toggleable__label sk-toggleable__label-arrow\">IntEncoder</label><div class=\"sk-toggleable__content\"><pre>IntEncoder(columns_to_transform=[&#x27;Heart Rate&#x27;, &#x27;Daily Steps&#x27;])</pre></div></div></div></div></div></div></div></div><div class=\"sk-item sk-dashed-wrapped\"><div class=\"sk-label-container\"><div class=\"sk-label sk-toggleable\"><input class=\"sk-toggleable__control sk-hidden--visually\" id=\"sk-estimator-id-7\" type=\"checkbox\" ><label for=\"sk-estimator-id-7\" class=\"sk-toggleable__label sk-toggleable__label-arrow\">Model: RandomizedSearchCV</label><div class=\"sk-toggleable__content\"><pre>RandomizedSearchCV(cv=4, estimator=RandomForestRegressor(), n_jobs=10,\n",
       "                   param_distributions={&#x27;max_depth&#x27;: [2, 4],\n",
       "                                        &#x27;max_features&#x27;: [&#x27;auto&#x27;, &#x27;sqrt&#x27;],\n",
       "                                        &#x27;min_samples_leaf&#x27;: [1, 2],\n",
       "                                        &#x27;min_samples_split&#x27;: [2, 3],\n",
       "                                        &#x27;n_estimators&#x27;: [10, 17, 25, 33, 41, 48,\n",
       "                                                         56, 64, 72, 80]},\n",
       "                   random_state=2309)</pre></div></div></div><div class=\"sk-parallel\"><div class=\"sk-parallel-item\"><div class=\"sk-item\"><div class=\"sk-label-container\"><div class=\"sk-label sk-toggleable\"><input class=\"sk-toggleable__control sk-hidden--visually\" id=\"sk-estimator-id-8\" type=\"checkbox\" ><label for=\"sk-estimator-id-8\" class=\"sk-toggleable__label sk-toggleable__label-arrow\">estimator: RandomForestRegressor</label><div class=\"sk-toggleable__content\"><pre>RandomForestRegressor()</pre></div></div></div><div class=\"sk-serial\"><div class=\"sk-item\"><div class=\"sk-estimator sk-toggleable\"><input class=\"sk-toggleable__control sk-hidden--visually\" id=\"sk-estimator-id-9\" type=\"checkbox\" ><label for=\"sk-estimator-id-9\" class=\"sk-toggleable__label sk-toggleable__label-arrow\">RandomForestRegressor</label><div class=\"sk-toggleable__content\"><pre>RandomForestRegressor()</pre></div></div></div></div></div></div></div></div></div></div></div></div>"
      ],
      "text/plain": [
       "Pipeline(steps=[('FeatureEngineering',\n",
       "                 DataFrameFeatureUnion(transformer_list=[('OneHotEncoding',\n",
       "                                                          OneHotEncoderPandas(columns=['Gender',\n",
       "                                                                                       'Sleep '\n",
       "                                                                                       'Disorder'])),\n",
       "                                                         ('OrdinalEncoding',\n",
       "                                                          OrdinalEncoderPandas(columns=['BMI '\n",
       "                                                                                        'Category'])),\n",
       "                                                         ('FloatEnconding',\n",
       "                                                          FloatEncoder(columns_to_transform=['Age',\n",
       "                                                                                             'Physical '\n",
       "                                                                                             'Activity '\n",
       "                                                                                             'Level',\n",
       "                                                                                             'Stress '\n",
       "                                                                                             'Level',\n",
       "                                                                                             'High_pressure',\n",
       "                                                                                             'Low_pre...\n",
       "                                                         ('IntEnconding',\n",
       "                                                          IntEncoder(columns_to_transform=['Heart '\n",
       "                                                                                           'Rate',\n",
       "                                                                                           'Daily '\n",
       "                                                                                           'Steps']))],\n",
       "                                       verbose=True)),\n",
       "                ('Model',\n",
       "                 RandomizedSearchCV(cv=4, estimator=RandomForestRegressor(),\n",
       "                                    n_jobs=10,\n",
       "                                    param_distributions={'max_depth': [2, 4],\n",
       "                                                         'max_features': ['auto',\n",
       "                                                                          'sqrt'],\n",
       "                                                         'min_samples_leaf': [1,\n",
       "                                                                              2],\n",
       "                                                         'min_samples_split': [2,\n",
       "                                                                               3],\n",
       "                                                         'n_estimators': [10,\n",
       "                                                                          17,\n",
       "                                                                          25,\n",
       "                                                                          33,\n",
       "                                                                          41,\n",
       "                                                                          48,\n",
       "                                                                          56,\n",
       "                                                                          64,\n",
       "                                                                          72,\n",
       "                                                                          80]},\n",
       "                                    random_state=2309))])"
      ]
     },
     "execution_count": 10,
     "metadata": {},
     "output_type": "execute_result"
    }
   ],
   "source": [
    "pipeline"
   ]
  },
  {
   "cell_type": "code",
   "execution_count": 20,
   "metadata": {},
   "outputs": [
    {
     "data": {
      "text/plain": [
       "0    2018\n",
       "dtype: object"
      ]
     },
     "execution_count": 20,
     "metadata": {},
     "output_type": "execute_result"
    }
   ],
   "source": [
    "known_categories = ['2014','2015','2016','2017','2018']    \n",
    "year_type = pd.Series(['2018']) \n",
    "year_type"
   ]
  },
  {
   "cell_type": "code",
   "execution_count": 21,
   "metadata": {},
   "outputs": [
    {
     "data": {
      "text/plain": [
       "['2018']\n",
       "Categories (5, object): ['2014', '2015', '2016', '2017', '2018']"
      ]
     },
     "execution_count": 21,
     "metadata": {},
     "output_type": "execute_result"
    }
   ],
   "source": [
    "year_type = pd.Categorical(year_type, categories = known_categories)\n",
    "year_type"
   ]
  },
  {
   "cell_type": "code",
   "execution_count": 29,
   "metadata": {},
   "outputs": [
    {
     "data": {
      "text/html": [
       "<div>\n",
       "<style scoped>\n",
       "    .dataframe tbody tr th:only-of-type {\n",
       "        vertical-align: middle;\n",
       "    }\n",
       "\n",
       "    .dataframe tbody tr th {\n",
       "        vertical-align: top;\n",
       "    }\n",
       "\n",
       "    .dataframe thead th {\n",
       "        text-align: right;\n",
       "    }\n",
       "</style>\n",
       "<table border=\"1\" class=\"dataframe\">\n",
       "  <thead>\n",
       "    <tr style=\"text-align: right;\">\n",
       "      <th></th>\n",
       "      <th>2014</th>\n",
       "      <th>2015</th>\n",
       "      <th>2016</th>\n",
       "      <th>2017</th>\n",
       "      <th>2018</th>\n",
       "    </tr>\n",
       "  </thead>\n",
       "  <tbody>\n",
       "    <tr>\n",
       "      <th>0</th>\n",
       "      <td>0</td>\n",
       "      <td>0</td>\n",
       "      <td>0</td>\n",
       "      <td>0</td>\n",
       "      <td>1</td>\n",
       "    </tr>\n",
       "  </tbody>\n",
       "</table>\n",
       "</div>"
      ],
      "text/plain": [
       "   2014  2015  2016  2017  2018\n",
       "0     0     0     0     0     1"
      ]
     },
     "execution_count": 29,
     "metadata": {},
     "output_type": "execute_result"
    }
   ],
   "source": [
    "pd.get_dummies(year_type)\n"
   ]
  },
  {
   "cell_type": "code",
   "execution_count": 37,
   "metadata": {},
   "outputs": [
    {
     "data": {
      "text/html": [
       "<div>\n",
       "<style scoped>\n",
       "    .dataframe tbody tr th:only-of-type {\n",
       "        vertical-align: middle;\n",
       "    }\n",
       "\n",
       "    .dataframe tbody tr th {\n",
       "        vertical-align: top;\n",
       "    }\n",
       "\n",
       "    .dataframe thead th {\n",
       "        text-align: right;\n",
       "    }\n",
       "</style>\n",
       "<table border=\"1\" class=\"dataframe\">\n",
       "  <thead>\n",
       "    <tr style=\"text-align: right;\">\n",
       "      <th></th>\n",
       "      <th>2018</th>\n",
       "      <th>2014</th>\n",
       "      <th>2015</th>\n",
       "      <th>2016</th>\n",
       "      <th>2017</th>\n",
       "    </tr>\n",
       "  </thead>\n",
       "  <tbody>\n",
       "    <tr>\n",
       "      <th>0</th>\n",
       "      <td>1</td>\n",
       "      <td>NaN</td>\n",
       "      <td>NaN</td>\n",
       "      <td>NaN</td>\n",
       "      <td>NaN</td>\n",
       "    </tr>\n",
       "    <tr>\n",
       "      <th>0</th>\n",
       "      <td>1</td>\n",
       "      <td>0.0</td>\n",
       "      <td>0.0</td>\n",
       "      <td>0.0</td>\n",
       "      <td>0.0</td>\n",
       "    </tr>\n",
       "  </tbody>\n",
       "</table>\n",
       "</div>"
      ],
      "text/plain": [
       "   2018  2014  2015  2016  2017\n",
       "0     1   NaN   NaN   NaN   NaN\n",
       "0     1   0.0   0.0   0.0   0.0"
      ]
     },
     "execution_count": 37,
     "metadata": {},
     "output_type": "execute_result"
    }
   ],
   "source": [
    "pd.concat([pd.DataFrame([1], columns=['2018'], index=[0]), pd.get_dummies(year_type)], ignore_index=False)"
   ]
  },
  {
   "cell_type": "code",
   "execution_count": 39,
   "metadata": {},
   "outputs": [],
   "source": [
    "assert(X_test.shape) == (75, 11)"
   ]
  },
  {
   "cell_type": "code",
   "execution_count": null,
   "metadata": {},
   "outputs": [],
   "source": []
  }
 ],
 "metadata": {
  "kernelspec": {
   "display_name": "sleepenv",
   "language": "python",
   "name": "python3"
  },
  "language_info": {
   "codemirror_mode": {
    "name": "ipython",
    "version": 3
   },
   "file_extension": ".py",
   "mimetype": "text/x-python",
   "name": "python",
   "nbconvert_exporter": "python",
   "pygments_lexer": "ipython3",
   "version": "3.10.11"
  },
  "orig_nbformat": 4
 },
 "nbformat": 4,
 "nbformat_minor": 2
}

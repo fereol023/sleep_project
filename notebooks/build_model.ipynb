{
 "cells": [
  {
   "attachments": {},
   "cell_type": "markdown",
   "metadata": {},
   "source": [
    "Encodage des entrées"
   ]
  },
  {
   "cell_type": "code",
   "execution_count": null,
   "metadata": {},
   "outputs": [
    {
     "data": {
      "text/plain": [
       "{'None': 0, 'Insomnia': 1, 'Sleep Apnea': 2}"
      ]
     },
     "execution_count": 19,
     "metadata": {},
     "output_type": "execute_result"
    }
   ],
   "source": [
    "d = dict()\n",
    "for i,val in enumerate(set(df['Sleep Disorder'].values)) : \n",
    "    d[val] = i\n",
    "d"
   ]
  },
  {
   "attachments": {},
   "cell_type": "markdown",
   "metadata": {},
   "source": [
    "Preprocessing"
   ]
  },
  {
   "cell_type": "code",
   "execution_count": 2,
   "metadata": {},
   "outputs": [
    {
     "name": "stdout",
     "output_type": "stream",
     "text": [
      "Index(['Gender', 'Age', 'Occupation', 'Physical Activity Level',\n",
      "       'Stress Level', 'BMI Category', 'High_pressure', 'Low_pressure',\n",
      "       'Heart Rate', 'Daily Steps', 'Sleep Disorder'],\n",
      "      dtype='object')\n",
      "(299, 11) | (75, 11) | (299,) | (75,)\n",
      "Saved train data.\n",
      "Saved test data.\n"
     ]
    }
   ],
   "source": [
    "# train test split  -> to save in 03\n",
    "import pandas as pd\n",
    "from sklearn.model_selection import train_test_split\n",
    "\n",
    "PATH_TO_INTERMEDIATE_XLSX = r\"../data/02_intermediate/df_cleaned.xlsx\"\n",
    "PATH_TO_TRAIN = r\"../data/03_primary/train.xlsx\"\n",
    "PATH_TO_TEST = r\"../data/03_primary/test.xlsx\"\n",
    "\n",
    "\n",
    "target = 'Sleep Duration' # float : is target\n",
    "\n",
    "features_retenues = [\n",
    "    'Gender',  # one hot \n",
    "    'Age', # float\n",
    "    'Occupation', # one hot / nominal avec other\n",
    "    'Physical Activity Level', # float\n",
    "    'Stress Level', # float \n",
    "    'BMI Category', # est la categorie ipc ordinal encoder\n",
    "    'High_pressure', # float\n",
    "    'Low_pressure', # float\n",
    "    'Heart Rate', # int\n",
    "    'Daily Steps', # int\n",
    "    'Sleep Disorder' # one hot \n",
    "]\n",
    "\n",
    "df = pd.read_excel(PATH_TO_INTERMEDIATE_XLSX)\n",
    "X = df[features_retenues]\n",
    "print(X.columns)\n",
    "y = df[target]\n",
    "X_train, X_test, y_train, y_test = train_test_split(df[features_retenues], df[target], test_size=0.2, random_state=2309)\n",
    "print(X_train.shape, X_test.shape, y_train.shape, y_test.shape, sep=' | ')\n",
    "train = pd.concat([X_train, y_train], axis=1)\n",
    "test = pd.concat([X_test, y_test], axis=1)\n",
    "\n",
    "with pd.ExcelWriter(PATH_TO_TRAIN) as writer1:\n",
    "        train.to_excel(writer1)\n",
    "        print('Saved train data.')\n",
    "\n",
    "with pd.ExcelWriter(PATH_TO_TEST) as writer2:\n",
    "        test.to_excel(writer2)\n",
    "        print('Saved test data.')\n"
   ]
  },
  {
   "attachments": {},
   "cell_type": "markdown",
   "metadata": {},
   "source": [
    "Pipeline - feature eng"
   ]
  },
  {
   "cell_type": "code",
   "execution_count": 3,
   "metadata": {},
   "outputs": [
    {
     "name": "stdout",
     "output_type": "stream",
     "text": [
      "Index(['Unnamed: 0', 'Gender', 'Age', 'Occupation', 'Physical Activity Level',\n",
      "       'Stress Level', 'BMI Category', 'High_pressure', 'Low_pressure',\n",
      "       'Heart Rate', 'Daily Steps', 'Sleep Disorder', 'Sleep Duration'],\n",
      "      dtype='object')\n"
     ]
    },
    {
     "data": {
      "text/plain": [
       "\"feature_pipeline = DataFrameFeatureUnion([\\n    ('OneHotEncoding', OneHotEncoderPandas(columns=to_ohe)),\\n    ('OrdinalEncoding', OrdinalEncoderPandas(columns=to_orde)),\\n    ('FloatEnconding', FloatEncoder(columns=to_cast_in_float)),\\n    ('IntEnconding', IntEncoder(columns=to_cast_in_int))\\n], verbose=True)\""
      ]
     },
     "execution_count": 3,
     "metadata": {},
     "output_type": "execute_result"
    }
   ],
   "source": [
    "train = pd.read_excel(PATH_TO_TRAIN)\n",
    "test = pd.read_excel(PATH_TO_TEST)\n",
    "print(test.columns)\n",
    "train = train.set_index('Unnamed: 0')[features_retenues + [target]]\n",
    "test = test.set_index('Unnamed: 0')[features_retenues]\n",
    "\n",
    "to_noe = ['Occupation']\n",
    "to_orde = ['BMI Category']\n",
    "to_ohe = ['Gender', 'Sleep Disorder']\n",
    "to_cast_in_float = ['Age', 'Physical Activity Level', 'Stress Level', 'High_pressure', 'Low_pressure']\n",
    "to_cast_in_int = ['Heart Rate', 'Daily Steps']"
   ]
  },
  {
   "cell_type": "code",
   "execution_count": 17,
   "metadata": {},
   "outputs": [],
   "source": [
    "from itertools import product\n",
    "from sklearn.base import BaseEstimator, TransformerMixin\n",
    "from sklearn.preprocessing import OneHotEncoder, OrdinalEncoder\n",
    "from dstoolbox.pipeline import DataFrameFeatureUnion\n",
    "from sklearn.pipeline import Pipeline\n",
    "\n",
    "\n",
    "class FloatEncoder(BaseEstimator, TransformerMixin):\n",
    "    \"\"\"\n",
    "    Ce transformer va caster les variables \"to_cast_in_float\" en float \n",
    "    \"\"\"\n",
    "    def __init__(self, columns_to_transform = None):\n",
    "        super().__init__()\n",
    "        self.columns_to_transform = columns_to_transform\n",
    "\n",
    "    def fit(self, X, y = None):\n",
    "        if self.columns_to_transform is not None :\n",
    "            self.X = X[self.columns_to_transform]\n",
    "        return self # on n'estime rien - limite on peut utiliser assert X[col] is not str pour preparer le codage au float\n",
    "\n",
    "    def transform(self, X):\n",
    "        for col in self.columns_to_transform:\n",
    "            self.X[col] = self.X[col].astype(float)\n",
    "        return self.X\n",
    "    \n",
    "class IntEncoder(BaseEstimator, TransformerMixin):\n",
    "    \"\"\"\n",
    "    Ce transformer va caster les variables \"to_cast_in_float\" en float \n",
    "    \"\"\"\n",
    "    def __init__(self, columns_to_transform = None):\n",
    "        super().__init__()\n",
    "        self.columns_to_transform = columns_to_transform\n",
    "\n",
    "    def fit(self, X, y = None):\n",
    "        if self.columns_to_transform is not None :\n",
    "            self.X = X[self.columns_to_transform]\n",
    "        return self \n",
    "    \n",
    "    def transform(self, X):\n",
    "        for col in self.columns_to_transform:\n",
    "            self.X[col] = self.X[col].astype(int)\n",
    "        return self.X\n",
    "\n",
    "class OneHotEncoderPandas(BaseEstimator, TransformerMixin):\n",
    "    \"\"\"\n",
    "    Cette implémentation du OneHotEncoder renvoie un DataFrame en sortie et non un array numpy. Ceci est fait pour garantir la\n",
    "    traçabilité des variables et faciliter l'interprétation du modèle dans la suite.\n",
    "    \"\"\"\n",
    "    def __init__(self, columns = None):\n",
    "        super().__init__()\n",
    "        self.columns = columns\n",
    "        self.ohe = OneHotEncoder(handle_unknown= \"ignore\", sparse = False) #, drop='first')\n",
    "\n",
    "    def fit(self, X, y = None):\n",
    "        if self.columns is not None:\n",
    "            self.X = X[self.columns]\n",
    "        # on fit l'encoder one hot\n",
    "        self.ohe.fit(self.X)\n",
    "\n",
    "        # Récupération des noms de colonnes + categories pour l'interprétabilité\n",
    "        # Ex : \"situation_-1\", \"situation_10\", etc..\n",
    "        self.feature_category_pairs = []\n",
    "        for i, feature in enumerate(self.ohe.feature_names_in_):\n",
    "            feature_category = product([feature], self.ohe.categories_[i])\n",
    "            for pair in feature_category:\n",
    "                self.feature_category_pairs.append(\"{}_{}\".format(*pair))\n",
    "        return self\n",
    "    \n",
    "    def transform(self, X):\n",
    "        if self.columns is not None:\n",
    "            self.X = X[self.columns]\n",
    "            \n",
    "        return pd.DataFrame(self.ohe.transform(self.X), columns = self.feature_category_pairs)\n",
    "\n",
    "\n",
    "class OrdinalEncoderPandas(BaseEstimator, TransformerMixin):\n",
    "    \"\"\"\n",
    "    Cette implémentation du OrdinalEncoder renvoie un DataFrame en sortie et non un array numpy. Ceci est fait pour garantir la\n",
    "    traçabilité des variables et faciliter l'interprétation du modèle dans la suite.\n",
    "    \"\"\"\n",
    "    def __init__(self, columns = None):\n",
    "        super().__init__()\n",
    "        self.columns = columns\n",
    "        self.orde = OrdinalEncoder(handle_unknown='use_encoded_value', unknown_value=999, encoded_missing_value=9999)\n",
    "\n",
    "    def fit(self, X, y = None):\n",
    "        if self.columns is not None :\n",
    "            self.X = X[self.columns]\n",
    "        \n",
    "        self.orde.fit(self.X) # ICI\n",
    "        return self\n",
    "\n",
    "    def transform(self, X):\n",
    "        if self.columns is not None:\n",
    "            X = X[self.columns]      # ICI\n",
    "        return pd.DataFrame(self.orde.transform(X), columns = self.columns)\n",
    "        \n",
    "\n",
    "feature_pipeline = DataFrameFeatureUnion([\n",
    "    ('OneHotEncoding', OneHotEncoderPandas(columns=to_ohe)),\n",
    "    ('OrdinalEncoding', OrdinalEncoderPandas(columns=to_orde)),\n",
    "    ('FloatEnconding', FloatEncoder(columns_to_transform=to_cast_in_float)),\n",
    "    ('IntEnconding', IntEncoder(columns_to_transform=to_cast_in_int))\n",
    "], verbose=True)"
   ]
  },
  {
   "cell_type": "markdown",
   "metadata": {},
   "source": [
    "Modele"
   ]
  },
  {
   "cell_type": "code",
   "execution_count": 26,
   "metadata": {},
   "outputs": [
    {
     "name": "stdout",
     "output_type": "stream",
     "text": [
      "Model saved : {'n_estimators': 17, 'min_samples_split': 2, 'min_samples_leaf': 1, 'max_features': 'auto', 'max_depth': 4}\n"
     ]
    }
   ],
   "source": [
    "from sklearn.ensemble import RandomForestRegressor\n",
    "from sklearn.model_selection import RandomizedSearchCV, GridSearchCV\n",
    "import warnings\n",
    "import numpy as np\n",
    "from joblib import load, dump\n",
    "\n",
    "warnings.filterwarnings('ignore')\n",
    "param_rf = {\n",
    "    'n_estimators' : [int(x) for x in np.linspace(10, 80, 10)], # nombre d'arbres dans la forêt 10 20 30 ..\n",
    "    'max_depth' : [2, 4], # nombre max de niveaux dans un arbre \n",
    "    'min_samples_split' : [2, 3], # nombre min d'echantillons (bootstrap) necessaire au niveau d'un noeud pour juger de le spliter \n",
    "    'min_samples_leaf' : [1, 2], # nombre min de samples requis à chaque node \n",
    "    'max_features' : ['auto', 'sqrt'] # nombre de features à considérer auto = et sqrt = \n",
    "}\n",
    "\n",
    "rcv = RandomizedSearchCV(RandomForestRegressor(), \n",
    "                        param_distributions=param_rf, \n",
    "                        cv = 4, \n",
    "                        n_jobs = 10,\n",
    "                        random_state = 2309)\n",
    "\n",
    "# La recherche d'hyperparamètres est effectuée par \"Random Search\" car plus efficace que la Grid Search à nombre d'itérations fixé.\n",
    "# Le critère de sélection est la \"MSE\".\n",
    "\n",
    "\n",
    "def build_pipeline(model):\n",
    "    \"\"\"\n",
    "    Fonction pour construire la pipeline de prédiction, le paramètre model doit être une instance d'un modèle type scikit-learn.\n",
    "    \"\"\"\n",
    "    ML_pipeline = Pipeline(\n",
    "        [\n",
    "            ('FeatureEngineering', feature_pipeline),\n",
    "            (\"Model\", model)\n",
    "        ]\n",
    "    )\n",
    "\n",
    "    return ML_pipeline\n",
    "\n",
    "\n",
    "# La recherche d'hyperparamètres est effectuée par \"Random Search\" car plus efficace que la Grid Search à nombre d'itérations fixé.\n",
    "\n",
    "pipeline = build_pipeline(rcv)\n",
    "\n",
    "pipeline.fit(X_train, y_train)\n",
    "\n",
    "dump(rcv.best_estimator_, \"../data/07_model_output/best_model.joblib\")\n",
    "print(f'Model saved : {rcv.best_params_}')"
   ]
  },
  {
   "cell_type": "code",
   "execution_count": 30,
   "metadata": {},
   "outputs": [
    {
     "ename": "ImportError",
     "evalue": "cannot import name 'plot_learning_curve' from 'utils' (c:\\Users\\gbeno\\anaconda3\\envs\\sleepenv\\lib\\site-packages\\utils\\__init__.py)",
     "output_type": "error",
     "traceback": [
      "\u001b[1;31m---------------------------------------------------------------------------\u001b[0m",
      "\u001b[1;31mImportError\u001b[0m                               Traceback (most recent call last)",
      "Cell \u001b[1;32mIn[30], line 2\u001b[0m\n\u001b[0;32m      1\u001b[0m \u001b[39mfrom\u001b[39;00m \u001b[39msklearn\u001b[39;00m\u001b[39m.\u001b[39;00m\u001b[39mmetrics\u001b[39;00m \u001b[39mimport\u001b[39;00m mean_squared_error\n\u001b[1;32m----> 2\u001b[0m \u001b[39mfrom\u001b[39;00m \u001b[39mutils\u001b[39;00m \u001b[39mimport\u001b[39;00m plot_learning_curve\n\u001b[0;32m      5\u001b[0m \u001b[39mdef\u001b[39;00m \u001b[39mevaluate_model\u001b[39m(model, train_features, test_features, train_target, test_target, rep \u001b[39m=\u001b[39m \u001b[39mFalse\u001b[39;00m):\n\u001b[0;32m      7\u001b[0m     prepPipeline \u001b[39m=\u001b[39m Pipeline([(\u001b[39m'\u001b[39m\u001b[39mprepare\u001b[39m\u001b[39m'\u001b[39m, feature_pipeline)])\n",
      "\u001b[1;31mImportError\u001b[0m: cannot import name 'plot_learning_curve' from 'utils' (c:\\Users\\gbeno\\anaconda3\\envs\\sleepenv\\lib\\site-packages\\utils\\__init__.py)"
     ]
    }
   ],
   "source": [
    "from sklearn.metrics import mean_squared_error\n",
    "from utils import plot_learning_curve\n",
    "\n",
    "\n",
    "def evaluate_model(model, train_features, test_features, train_target, test_target, rep = False):\n",
    "\n",
    "    prepPipeline = Pipeline([('prepare', feature_pipeline)])\n",
    "    train_features = prepPipeline.fit_transform(train_features)\n",
    "    test_features = prepPipeline.fit_transform(test_features)\n",
    "\n",
    "    train_preds = model.predict(train_features)\n",
    "    rmse_train = round(mean_squared_error(train_target, train_preds, squared=False), 3)\n",
    "\n",
    "    test_preds = model.predict(test_features)\n",
    "    rmse_test = round(mean_squared_error(test_target, test_preds, squared=False), 3)\n",
    "\n",
    "    if rep :\n",
    "        return rmse_train, rmse_test\n",
    "    else : \n",
    "        print(\"=\"*50)\n",
    "        print(\"Train error :\",rmse_train) \n",
    "        print(\"Test error :\", rmse_test)\n",
    "\n",
    "    #======== LEARNING CURVE\n",
    "    plot_learning_curve(\n",
    "        best_model,\n",
    "        title = \"Learning Curve - LightGBM\",\n",
    "        X = train_features,\n",
    "        y = train_target,\n",
    "        cv=4,\n",
    "        n_jobs=1,\n",
    "    )\n",
    "\n",
    "\n",
    "# execution\n",
    "\n",
    "PATH_TO_MODEL = r\"..\\data\\07_model_output\\best_model.joblib\"\n",
    "best_model = load(PATH_TO_MODEL)\n",
    "\n",
    "print(\"\\nEvaluate Best Random forest RCV regressor\")\n",
    "evaluate_model(best_model, X_train, X_test, y_train, y_test)"
   ]
  }
 ],
 "metadata": {
  "kernelspec": {
   "display_name": "sleepenv",
   "language": "python",
   "name": "python3"
  },
  "language_info": {
   "codemirror_mode": {
    "name": "ipython",
    "version": 3
   },
   "file_extension": ".py",
   "mimetype": "text/x-python",
   "name": "python",
   "nbconvert_exporter": "python",
   "pygments_lexer": "ipython3",
   "version": "3.10.11"
  },
  "orig_nbformat": 4
 },
 "nbformat": 4,
 "nbformat_minor": 2
}
